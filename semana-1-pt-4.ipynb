{
 "cells": [
  {
   "cell_type": "markdown",
   "metadata": {},
   "source": [
    "<h2><code>Practice</code></h2>\n",
    "Try to create an <code>toy_set</code> object with length <b>50</b>. Print out the length of your object.\n"
   ]
  },
  {
   "cell_type": "code",
   "execution_count": 9,
   "metadata": {},
   "outputs": [
    {
     "name": "stdout",
     "output_type": "stream",
     "text": [
      "My 'toy_sey' length:  50\n"
     ]
    }
   ],
   "source": [
    "import torch\n",
    "from torch.utils.data import Dataset\n",
    "torch.manual_seed(1)\n",
    "\n",
    "class toy_set(Dataset):\n",
    "    \n",
    "    def __init__(self, length = 100, transform = None):\n",
    "        self.len = length\n",
    "        self.x = 2 * torch.ones(length, 2)\n",
    "        self.y = torch.ones(length, 1)\n",
    "        self.transform = transform\n",
    "     \n",
    "    def __getitem__(self, index):\n",
    "        sample = self.x[index], self.y[index]\n",
    "        if self.transform:\n",
    "            sample = self.transform(sample)     \n",
    "        return sample\n",
    "    \n",
    "    def __len__(self):\n",
    "        return self.len\n",
    "    \n",
    "\n",
    "our_dataset = toy_set(length=50)\n",
    "print(\"My 'toy_sey' length: \", our_dataset.__len__())"
   ]
  },
  {
   "cell_type": "markdown",
   "metadata": {},
   "source": [
    "<h2><code>Practice</code></h2>\n",
    "<ul>\n",
    "    <li>Construct your own <code>my_add_mult transform</code>.</li>\n",
    "    <li>Apply <code>my_add_mult</code> on a new <code>toy_set</code> object.</li>\n",
    "    <li>Print out the first three elements from the transformed dataset.</li>\n",
    "</ul>\n"
   ]
  },
  {
   "cell_type": "code",
   "execution_count": 11,
   "metadata": {},
   "outputs": [
    {
     "name": "stdout",
     "output_type": "stream",
     "text": [
      "Index:  0 Original x:  tensor([4., 4.]) Original y:  tensor([20.])\n",
      "----------------------------------------------------------------------------------------------------\n",
      "Index:  1 Original x:  tensor([4., 4.]) Original y:  tensor([20.])\n",
      "----------------------------------------------------------------------------------------------------\n",
      "Index:  2 Original x:  tensor([4., 4.]) Original y:  tensor([20.])\n",
      "----------------------------------------------------------------------------------------------------\n"
     ]
    }
   ],
   "source": [
    "class add_mult(object):\n",
    "    \n",
    "    def __init__(self, addx = 1, addy = 1, mulx = 1, muly = 1):\n",
    "        self.addx = addx\n",
    "        self.addy = addy\n",
    "        self.mulx = mulx\n",
    "        self.muly = muly\n",
    "    \n",
    "    def __call__(self, sample):\n",
    "        x = sample[0]\n",
    "        y = sample[1]\n",
    "        x = x + self.addx\n",
    "        y = y + self.addy\n",
    "        x = x * self.mulx\n",
    "        y = y * self.muly\n",
    "        sample = x, y\n",
    "        return sample\n",
    "    \n",
    "a_m = add_mult(addx = 2, muly = 10)\n",
    "data_set = toy_set(transform=a_m)\n",
    "\n",
    "for i in range(3):\n",
    "    x, y = data_set[i]\n",
    "    print(\"Index: \", i, 'Original x: ', x, 'Original y: ', y)\n",
    "    print('-' * 100)"
   ]
  },
  {
   "cell_type": "markdown",
   "metadata": {},
   "source": [
    "<h2><code>Practice</code></h2>\n",
    "<ul>\n",
    "    <li>Try to combine the <code>mult()</code> and <code>add_mult()</code> as <code>mult()</code> to be executed first.</li>\n",
    "    <li>And apply this on a new <code>toy_set</code> dataset.</li>\n",
    "    <li>Print out the first 3 elements in the transformed dataset.</li>\n",
    "</ul>\n"
   ]
  },
  {
   "cell_type": "code",
   "execution_count": 19,
   "metadata": {},
   "outputs": [],
   "source": [
    "import torch\n",
    "from torch.utils.data import Dataset\n",
    "from torchvision import transforms\n",
    "torch.manual_seed(1)\n",
    "\n",
    "class toy_set(Dataset):\n",
    "    \n",
    "    def __init__(self, length = 100, transform = None):\n",
    "        self.len = length\n",
    "        self.x = 2 * torch.ones(length, 2)\n",
    "        self.y = torch.ones(length, 1)\n",
    "        self.transform = transform\n",
    "     \n",
    "    def __getitem__(self, index: int):\n",
    "        sample = self.x[index], self.y[index]\n",
    "        if self.transform:\n",
    "            sample = self.transform(sample)     \n",
    "        return sample\n",
    "    \n",
    "    def __len__(self):\n",
    "        return self.len\n",
    "\n",
    "class add(object):\n",
    "\n",
    "    def __init__(self, addx:float=1, addy:float=1):\n",
    "        self.addx = addx\n",
    "        self.addy = addy\n",
    "\n",
    "    def __call__(self, sample:tuple):\n",
    "        x = sample[0]\n",
    "        y = sample[1]\n",
    "        x = x + self.addx\n",
    "        y = y + self.addy\n",
    "        sample = x, y\n",
    "        return sample\n",
    "    \n",
    "class mult(object):\n",
    "\n",
    "    def __init__(self, multx:float=1, multy:float=1):\n",
    "        self.multx = multx\n",
    "        self.multy = multy\n",
    "\n",
    "    def __call__(self, sample:tuple):\n",
    "        x = sample[0]\n",
    "        y = sample[1]\n",
    "        x = x * self.multx\n",
    "        y = y * self.multy\n",
    "        sample = x, y\n",
    "        return sample\n"
   ]
  },
  {
   "cell_type": "code",
   "execution_count": 20,
   "metadata": {},
   "outputs": [],
   "source": [
    "data_set = toy_set()\n",
    "\n",
    "data_transform = transforms.Compose([add(addx=1, addy=1), mult(multx=100, multy=100)])\n",
    "data_set_tr = toy_set(transform=data_transform)\n"
   ]
  },
  {
   "cell_type": "code",
   "execution_count": 21,
   "metadata": {},
   "outputs": [
    {
     "name": "stdout",
     "output_type": "stream",
     "text": [
      "Index:  0 Original x:  tensor([2., 2.]) Original y:  tensor([1.])\n",
      "Index:  0 Transformed x_: tensor([300., 300.]) Transformed y_: tensor([200.])\n",
      "----------------------------------------------------------------------------------------------------\n",
      "Index:  1 Original x:  tensor([2., 2.]) Original y:  tensor([1.])\n",
      "Index:  1 Transformed x_: tensor([300., 300.]) Transformed y_: tensor([200.])\n",
      "----------------------------------------------------------------------------------------------------\n",
      "Index:  2 Original x:  tensor([2., 2.]) Original y:  tensor([1.])\n",
      "Index:  2 Transformed x_: tensor([300., 300.]) Transformed y_: tensor([200.])\n",
      "----------------------------------------------------------------------------------------------------\n"
     ]
    }
   ],
   "source": [
    "for i in range(3):\n",
    "    x, y = data_set[i]\n",
    "    print(\"Index: \", i, 'Original x: ', x, 'Original y: ', y)\n",
    "    _x, _y = data_set_tr[i]\n",
    "    print(\"Index: \", i, 'Transformed x_:', _x, 'Transformed y_:', _y)\n",
    "    print('-' * 100)\n",
    "    "
   ]
  },
  {
   "cell_type": "code",
   "execution_count": null,
   "metadata": {},
   "outputs": [],
   "source": []
  }
 ],
 "metadata": {
  "kernelspec": {
   "display_name": ".venv",
   "language": "python",
   "name": "python3"
  },
  "language_info": {
   "codemirror_mode": {
    "name": "ipython",
    "version": 3
   },
   "file_extension": ".py",
   "mimetype": "text/x-python",
   "name": "python",
   "nbconvert_exporter": "python",
   "pygments_lexer": "ipython3",
   "version": "3.11.4"
  },
  "orig_nbformat": 4
 },
 "nbformat": 4,
 "nbformat_minor": 2
}
